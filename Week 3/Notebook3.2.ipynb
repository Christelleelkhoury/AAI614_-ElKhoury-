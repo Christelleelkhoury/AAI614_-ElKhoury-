{
  "cells": [
    {
      "cell_type": "markdown",
      "metadata": {
        "id": "view-in-github",
        "colab_type": "text"
      },
      "source": [
        "<a href=\"https://colab.research.google.com/github/Christelleelkhoury/AAI614_-ElKhoury-/blob/main/Week%203/Notebook3.2.ipynb\" target=\"_parent\"><img src=\"https://colab.research.google.com/assets/colab-badge.svg\" alt=\"Open In Colab\"/></a>"
      ]
    },
    {
      "cell_type": "markdown",
      "id": "61ea5f6e-6458-4301-85d3-76062b1922a6",
      "metadata": {
        "id": "61ea5f6e-6458-4301-85d3-76062b1922a6"
      },
      "source": [
        "# AAI614: Data Science & its Applications\n",
        "\n",
        "*Notebook 3.2: Practice with Data Cleaning*\n"
      ]
    },
    {
      "cell_type": "code",
      "execution_count": 1,
      "id": "c94dc240",
      "metadata": {
        "id": "c94dc240"
      },
      "outputs": [],
      "source": [
        "import pandas as pd\n",
        "import ssl\n",
        "\n",
        "ssl._create_default_https_context = ssl._create_unverified_context"
      ]
    },
    {
      "cell_type": "markdown",
      "id": "eb53db49",
      "metadata": {
        "id": "eb53db49"
      },
      "source": [
        "Exercise I. Load the following datafile from GitHub"
      ]
    },
    {
      "cell_type": "code",
      "execution_count": 2,
      "id": "dfd04802",
      "metadata": {
        "id": "dfd04802"
      },
      "outputs": [],
      "source": [
        "grads = pd.read_csv(\"https://raw.githubusercontent.com/harmanani/AAI614/main/Week%203/grads.csv\")"
      ]
    },
    {
      "cell_type": "code",
      "execution_count": 3,
      "id": "674715ec",
      "metadata": {
        "id": "674715ec",
        "outputId": "a0c6c8ea-ee98-46c9-ccd9-652ea012e63b",
        "colab": {
          "base_uri": "https://localhost:8080/",
          "height": 332
        }
      },
      "outputs": [
        {
          "output_type": "execute_result",
          "data": {
            "text/plain": [
              "  Student Name  Avg Hours Studies per Week  GPA     University  \\\n",
              "0       George                          20  NaN            NYU   \n",
              "1        Jerry                          35  3.5       Columbia   \n",
              "2       Elaine                          55  4.0       Columbia   \n",
              "3        Cosmo                           5  2.0   City College   \n",
              "4       Newman                          25  2.8   City College   \n",
              "5        Frank                          35  3.0   Festivus Uni   \n",
              "6      Estelle                         100  3.2  Festivus Uni    \n",
              "7          Leo                          15  2.4   Festivus Uni   \n",
              "8       Rachel                          50  4.0       Columbia   \n",
              "\n",
              "   Sense of Humour (0-5) Salary  \n",
              "0                    3.0   $40k  \n",
              "1                    5.0   $80k  \n",
              "2                    4.2   $60k  \n",
              "3                    2.0   $25k  \n",
              "4                    0.0   $50k  \n",
              "5                    NaN   $40k  \n",
              "6                    1.7    $0k  \n",
              "7                    0.0   $35k  \n",
              "8                    NaN   $75k  "
            ],
            "text/html": [
              "\n",
              "  <div id=\"df-3845ac81-bf8b-40a4-85e4-b59dd685e756\" class=\"colab-df-container\">\n",
              "    <div>\n",
              "<style scoped>\n",
              "    .dataframe tbody tr th:only-of-type {\n",
              "        vertical-align: middle;\n",
              "    }\n",
              "\n",
              "    .dataframe tbody tr th {\n",
              "        vertical-align: top;\n",
              "    }\n",
              "\n",
              "    .dataframe thead th {\n",
              "        text-align: right;\n",
              "    }\n",
              "</style>\n",
              "<table border=\"1\" class=\"dataframe\">\n",
              "  <thead>\n",
              "    <tr style=\"text-align: right;\">\n",
              "      <th></th>\n",
              "      <th>Student Name</th>\n",
              "      <th>Avg Hours Studies per Week</th>\n",
              "      <th>GPA</th>\n",
              "      <th>University</th>\n",
              "      <th>Sense of Humour (0-5)</th>\n",
              "      <th>Salary</th>\n",
              "    </tr>\n",
              "  </thead>\n",
              "  <tbody>\n",
              "    <tr>\n",
              "      <th>0</th>\n",
              "      <td>George</td>\n",
              "      <td>20</td>\n",
              "      <td>NaN</td>\n",
              "      <td>NYU</td>\n",
              "      <td>3.0</td>\n",
              "      <td>$40k</td>\n",
              "    </tr>\n",
              "    <tr>\n",
              "      <th>1</th>\n",
              "      <td>Jerry</td>\n",
              "      <td>35</td>\n",
              "      <td>3.5</td>\n",
              "      <td>Columbia</td>\n",
              "      <td>5.0</td>\n",
              "      <td>$80k</td>\n",
              "    </tr>\n",
              "    <tr>\n",
              "      <th>2</th>\n",
              "      <td>Elaine</td>\n",
              "      <td>55</td>\n",
              "      <td>4.0</td>\n",
              "      <td>Columbia</td>\n",
              "      <td>4.2</td>\n",
              "      <td>$60k</td>\n",
              "    </tr>\n",
              "    <tr>\n",
              "      <th>3</th>\n",
              "      <td>Cosmo</td>\n",
              "      <td>5</td>\n",
              "      <td>2.0</td>\n",
              "      <td>City College</td>\n",
              "      <td>2.0</td>\n",
              "      <td>$25k</td>\n",
              "    </tr>\n",
              "    <tr>\n",
              "      <th>4</th>\n",
              "      <td>Newman</td>\n",
              "      <td>25</td>\n",
              "      <td>2.8</td>\n",
              "      <td>City College</td>\n",
              "      <td>0.0</td>\n",
              "      <td>$50k</td>\n",
              "    </tr>\n",
              "    <tr>\n",
              "      <th>5</th>\n",
              "      <td>Frank</td>\n",
              "      <td>35</td>\n",
              "      <td>3.0</td>\n",
              "      <td>Festivus Uni</td>\n",
              "      <td>NaN</td>\n",
              "      <td>$40k</td>\n",
              "    </tr>\n",
              "    <tr>\n",
              "      <th>6</th>\n",
              "      <td>Estelle</td>\n",
              "      <td>100</td>\n",
              "      <td>3.2</td>\n",
              "      <td>Festivus Uni</td>\n",
              "      <td>1.7</td>\n",
              "      <td>$0k</td>\n",
              "    </tr>\n",
              "    <tr>\n",
              "      <th>7</th>\n",
              "      <td>Leo</td>\n",
              "      <td>15</td>\n",
              "      <td>2.4</td>\n",
              "      <td>Festivus Uni</td>\n",
              "      <td>0.0</td>\n",
              "      <td>$35k</td>\n",
              "    </tr>\n",
              "    <tr>\n",
              "      <th>8</th>\n",
              "      <td>Rachel</td>\n",
              "      <td>50</td>\n",
              "      <td>4.0</td>\n",
              "      <td>Columbia</td>\n",
              "      <td>NaN</td>\n",
              "      <td>$75k</td>\n",
              "    </tr>\n",
              "  </tbody>\n",
              "</table>\n",
              "</div>\n",
              "    <div class=\"colab-df-buttons\">\n",
              "\n",
              "  <div class=\"colab-df-container\">\n",
              "    <button class=\"colab-df-convert\" onclick=\"convertToInteractive('df-3845ac81-bf8b-40a4-85e4-b59dd685e756')\"\n",
              "            title=\"Convert this dataframe to an interactive table.\"\n",
              "            style=\"display:none;\">\n",
              "\n",
              "  <svg xmlns=\"http://www.w3.org/2000/svg\" height=\"24px\" viewBox=\"0 -960 960 960\">\n",
              "    <path d=\"M120-120v-720h720v720H120Zm60-500h600v-160H180v160Zm220 220h160v-160H400v160Zm0 220h160v-160H400v160ZM180-400h160v-160H180v160Zm440 0h160v-160H620v160ZM180-180h160v-160H180v160Zm440 0h160v-160H620v160Z\"/>\n",
              "  </svg>\n",
              "    </button>\n",
              "\n",
              "  <style>\n",
              "    .colab-df-container {\n",
              "      display:flex;\n",
              "      gap: 12px;\n",
              "    }\n",
              "\n",
              "    .colab-df-convert {\n",
              "      background-color: #E8F0FE;\n",
              "      border: none;\n",
              "      border-radius: 50%;\n",
              "      cursor: pointer;\n",
              "      display: none;\n",
              "      fill: #1967D2;\n",
              "      height: 32px;\n",
              "      padding: 0 0 0 0;\n",
              "      width: 32px;\n",
              "    }\n",
              "\n",
              "    .colab-df-convert:hover {\n",
              "      background-color: #E2EBFA;\n",
              "      box-shadow: 0px 1px 2px rgba(60, 64, 67, 0.3), 0px 1px 3px 1px rgba(60, 64, 67, 0.15);\n",
              "      fill: #174EA6;\n",
              "    }\n",
              "\n",
              "    .colab-df-buttons div {\n",
              "      margin-bottom: 4px;\n",
              "    }\n",
              "\n",
              "    [theme=dark] .colab-df-convert {\n",
              "      background-color: #3B4455;\n",
              "      fill: #D2E3FC;\n",
              "    }\n",
              "\n",
              "    [theme=dark] .colab-df-convert:hover {\n",
              "      background-color: #434B5C;\n",
              "      box-shadow: 0px 1px 3px 1px rgba(0, 0, 0, 0.15);\n",
              "      filter: drop-shadow(0px 1px 2px rgba(0, 0, 0, 0.3));\n",
              "      fill: #FFFFFF;\n",
              "    }\n",
              "  </style>\n",
              "\n",
              "    <script>\n",
              "      const buttonEl =\n",
              "        document.querySelector('#df-3845ac81-bf8b-40a4-85e4-b59dd685e756 button.colab-df-convert');\n",
              "      buttonEl.style.display =\n",
              "        google.colab.kernel.accessAllowed ? 'block' : 'none';\n",
              "\n",
              "      async function convertToInteractive(key) {\n",
              "        const element = document.querySelector('#df-3845ac81-bf8b-40a4-85e4-b59dd685e756');\n",
              "        const dataTable =\n",
              "          await google.colab.kernel.invokeFunction('convertToInteractive',\n",
              "                                                    [key], {});\n",
              "        if (!dataTable) return;\n",
              "\n",
              "        const docLinkHtml = 'Like what you see? Visit the ' +\n",
              "          '<a target=\"_blank\" href=https://colab.research.google.com/notebooks/data_table.ipynb>data table notebook</a>'\n",
              "          + ' to learn more about interactive tables.';\n",
              "        element.innerHTML = '';\n",
              "        dataTable['output_type'] = 'display_data';\n",
              "        await google.colab.output.renderOutput(dataTable, element);\n",
              "        const docLink = document.createElement('div');\n",
              "        docLink.innerHTML = docLinkHtml;\n",
              "        element.appendChild(docLink);\n",
              "      }\n",
              "    </script>\n",
              "  </div>\n",
              "\n",
              "\n",
              "<div id=\"df-aeb8c91b-f50d-4541-886c-be62bda38f83\">\n",
              "  <button class=\"colab-df-quickchart\" onclick=\"quickchart('df-aeb8c91b-f50d-4541-886c-be62bda38f83')\"\n",
              "            title=\"Suggest charts\"\n",
              "            style=\"display:none;\">\n",
              "\n",
              "<svg xmlns=\"http://www.w3.org/2000/svg\" height=\"24px\"viewBox=\"0 0 24 24\"\n",
              "     width=\"24px\">\n",
              "    <g>\n",
              "        <path d=\"M19 3H5c-1.1 0-2 .9-2 2v14c0 1.1.9 2 2 2h14c1.1 0 2-.9 2-2V5c0-1.1-.9-2-2-2zM9 17H7v-7h2v7zm4 0h-2V7h2v10zm4 0h-2v-4h2v4z\"/>\n",
              "    </g>\n",
              "</svg>\n",
              "  </button>\n",
              "\n",
              "<style>\n",
              "  .colab-df-quickchart {\n",
              "      --bg-color: #E8F0FE;\n",
              "      --fill-color: #1967D2;\n",
              "      --hover-bg-color: #E2EBFA;\n",
              "      --hover-fill-color: #174EA6;\n",
              "      --disabled-fill-color: #AAA;\n",
              "      --disabled-bg-color: #DDD;\n",
              "  }\n",
              "\n",
              "  [theme=dark] .colab-df-quickchart {\n",
              "      --bg-color: #3B4455;\n",
              "      --fill-color: #D2E3FC;\n",
              "      --hover-bg-color: #434B5C;\n",
              "      --hover-fill-color: #FFFFFF;\n",
              "      --disabled-bg-color: #3B4455;\n",
              "      --disabled-fill-color: #666;\n",
              "  }\n",
              "\n",
              "  .colab-df-quickchart {\n",
              "    background-color: var(--bg-color);\n",
              "    border: none;\n",
              "    border-radius: 50%;\n",
              "    cursor: pointer;\n",
              "    display: none;\n",
              "    fill: var(--fill-color);\n",
              "    height: 32px;\n",
              "    padding: 0;\n",
              "    width: 32px;\n",
              "  }\n",
              "\n",
              "  .colab-df-quickchart:hover {\n",
              "    background-color: var(--hover-bg-color);\n",
              "    box-shadow: 0 1px 2px rgba(60, 64, 67, 0.3), 0 1px 3px 1px rgba(60, 64, 67, 0.15);\n",
              "    fill: var(--button-hover-fill-color);\n",
              "  }\n",
              "\n",
              "  .colab-df-quickchart-complete:disabled,\n",
              "  .colab-df-quickchart-complete:disabled:hover {\n",
              "    background-color: var(--disabled-bg-color);\n",
              "    fill: var(--disabled-fill-color);\n",
              "    box-shadow: none;\n",
              "  }\n",
              "\n",
              "  .colab-df-spinner {\n",
              "    border: 2px solid var(--fill-color);\n",
              "    border-color: transparent;\n",
              "    border-bottom-color: var(--fill-color);\n",
              "    animation:\n",
              "      spin 1s steps(1) infinite;\n",
              "  }\n",
              "\n",
              "  @keyframes spin {\n",
              "    0% {\n",
              "      border-color: transparent;\n",
              "      border-bottom-color: var(--fill-color);\n",
              "      border-left-color: var(--fill-color);\n",
              "    }\n",
              "    20% {\n",
              "      border-color: transparent;\n",
              "      border-left-color: var(--fill-color);\n",
              "      border-top-color: var(--fill-color);\n",
              "    }\n",
              "    30% {\n",
              "      border-color: transparent;\n",
              "      border-left-color: var(--fill-color);\n",
              "      border-top-color: var(--fill-color);\n",
              "      border-right-color: var(--fill-color);\n",
              "    }\n",
              "    40% {\n",
              "      border-color: transparent;\n",
              "      border-right-color: var(--fill-color);\n",
              "      border-top-color: var(--fill-color);\n",
              "    }\n",
              "    60% {\n",
              "      border-color: transparent;\n",
              "      border-right-color: var(--fill-color);\n",
              "    }\n",
              "    80% {\n",
              "      border-color: transparent;\n",
              "      border-right-color: var(--fill-color);\n",
              "      border-bottom-color: var(--fill-color);\n",
              "    }\n",
              "    90% {\n",
              "      border-color: transparent;\n",
              "      border-bottom-color: var(--fill-color);\n",
              "    }\n",
              "  }\n",
              "</style>\n",
              "\n",
              "  <script>\n",
              "    async function quickchart(key) {\n",
              "      const quickchartButtonEl =\n",
              "        document.querySelector('#' + key + ' button');\n",
              "      quickchartButtonEl.disabled = true;  // To prevent multiple clicks.\n",
              "      quickchartButtonEl.classList.add('colab-df-spinner');\n",
              "      try {\n",
              "        const charts = await google.colab.kernel.invokeFunction(\n",
              "            'suggestCharts', [key], {});\n",
              "      } catch (error) {\n",
              "        console.error('Error during call to suggestCharts:', error);\n",
              "      }\n",
              "      quickchartButtonEl.classList.remove('colab-df-spinner');\n",
              "      quickchartButtonEl.classList.add('colab-df-quickchart-complete');\n",
              "    }\n",
              "    (() => {\n",
              "      let quickchartButtonEl =\n",
              "        document.querySelector('#df-aeb8c91b-f50d-4541-886c-be62bda38f83 button');\n",
              "      quickchartButtonEl.style.display =\n",
              "        google.colab.kernel.accessAllowed ? 'block' : 'none';\n",
              "    })();\n",
              "  </script>\n",
              "</div>\n",
              "\n",
              "  <div id=\"id_e14c4a5f-c87a-41fa-af74-22f484994ff0\">\n",
              "    <style>\n",
              "      .colab-df-generate {\n",
              "        background-color: #E8F0FE;\n",
              "        border: none;\n",
              "        border-radius: 50%;\n",
              "        cursor: pointer;\n",
              "        display: none;\n",
              "        fill: #1967D2;\n",
              "        height: 32px;\n",
              "        padding: 0 0 0 0;\n",
              "        width: 32px;\n",
              "      }\n",
              "\n",
              "      .colab-df-generate:hover {\n",
              "        background-color: #E2EBFA;\n",
              "        box-shadow: 0px 1px 2px rgba(60, 64, 67, 0.3), 0px 1px 3px 1px rgba(60, 64, 67, 0.15);\n",
              "        fill: #174EA6;\n",
              "      }\n",
              "\n",
              "      [theme=dark] .colab-df-generate {\n",
              "        background-color: #3B4455;\n",
              "        fill: #D2E3FC;\n",
              "      }\n",
              "\n",
              "      [theme=dark] .colab-df-generate:hover {\n",
              "        background-color: #434B5C;\n",
              "        box-shadow: 0px 1px 3px 1px rgba(0, 0, 0, 0.15);\n",
              "        filter: drop-shadow(0px 1px 2px rgba(0, 0, 0, 0.3));\n",
              "        fill: #FFFFFF;\n",
              "      }\n",
              "    </style>\n",
              "    <button class=\"colab-df-generate\" onclick=\"generateWithVariable('grads')\"\n",
              "            title=\"Generate code using this dataframe.\"\n",
              "            style=\"display:none;\">\n",
              "\n",
              "  <svg xmlns=\"http://www.w3.org/2000/svg\" height=\"24px\"viewBox=\"0 0 24 24\"\n",
              "       width=\"24px\">\n",
              "    <path d=\"M7,19H8.4L18.45,9,17,7.55,7,17.6ZM5,21V16.75L18.45,3.32a2,2,0,0,1,2.83,0l1.4,1.43a1.91,1.91,0,0,1,.58,1.4,1.91,1.91,0,0,1-.58,1.4L9.25,21ZM18.45,9,17,7.55Zm-12,3A5.31,5.31,0,0,0,4.9,8.1,5.31,5.31,0,0,0,1,6.5,5.31,5.31,0,0,0,4.9,4.9,5.31,5.31,0,0,0,6.5,1,5.31,5.31,0,0,0,8.1,4.9,5.31,5.31,0,0,0,12,6.5,5.46,5.46,0,0,0,6.5,12Z\"/>\n",
              "  </svg>\n",
              "    </button>\n",
              "    <script>\n",
              "      (() => {\n",
              "      const buttonEl =\n",
              "        document.querySelector('#id_e14c4a5f-c87a-41fa-af74-22f484994ff0 button.colab-df-generate');\n",
              "      buttonEl.style.display =\n",
              "        google.colab.kernel.accessAllowed ? 'block' : 'none';\n",
              "\n",
              "      buttonEl.onclick = () => {\n",
              "        google.colab.notebook.generateWithVariable('grads');\n",
              "      }\n",
              "      })();\n",
              "    </script>\n",
              "  </div>\n",
              "\n",
              "    </div>\n",
              "  </div>\n"
            ],
            "application/vnd.google.colaboratory.intrinsic+json": {
              "type": "dataframe",
              "variable_name": "grads",
              "summary": "{\n  \"name\": \"grads\",\n  \"rows\": 9,\n  \"fields\": [\n    {\n      \"column\": \"Student Name\",\n      \"properties\": {\n        \"dtype\": \"string\",\n        \"num_unique_values\": 9,\n        \"samples\": [\n          \"Leo\",\n          \"Jerry\",\n          \"Frank\"\n        ],\n        \"semantic_type\": \"\",\n        \"description\": \"\"\n      }\n    },\n    {\n      \"column\": \"Avg Hours Studies per Week\",\n      \"properties\": {\n        \"dtype\": \"number\",\n        \"std\": 28,\n        \"min\": 5,\n        \"max\": 100,\n        \"num_unique_values\": 8,\n        \"samples\": [\n          35,\n          100,\n          20\n        ],\n        \"semantic_type\": \"\",\n        \"description\": \"\"\n      }\n    },\n    {\n      \"column\": \"GPA\",\n      \"properties\": {\n        \"dtype\": \"number\",\n        \"std\": 0.7160157619972982,\n        \"min\": 2.0,\n        \"max\": 4.0,\n        \"num_unique_values\": 7,\n        \"samples\": [\n          3.5,\n          4.0,\n          3.2\n        ],\n        \"semantic_type\": \"\",\n        \"description\": \"\"\n      }\n    },\n    {\n      \"column\": \"University\",\n      \"properties\": {\n        \"dtype\": \"string\",\n        \"num_unique_values\": 6,\n        \"samples\": [\n          \" NYU\",\n          \"Columbia\",\n          \"Festivus Uni \"\n        ],\n        \"semantic_type\": \"\",\n        \"description\": \"\"\n      }\n    },\n    {\n      \"column\": \"Sense of Humour (0-5)\",\n      \"properties\": {\n        \"dtype\": \"number\",\n        \"std\": 1.932799597918596,\n        \"min\": 0.0,\n        \"max\": 5.0,\n        \"num_unique_values\": 6,\n        \"samples\": [\n          3.0,\n          5.0,\n          1.7\n        ],\n        \"semantic_type\": \"\",\n        \"description\": \"\"\n      }\n    },\n    {\n      \"column\": \"Salary\",\n      \"properties\": {\n        \"dtype\": \"string\",\n        \"num_unique_values\": 9,\n        \"samples\": [\n          \" $35k\",\n          \"$80k\",\n          \"$40k\"\n        ],\n        \"semantic_type\": \"\",\n        \"description\": \"\"\n      }\n    }\n  ]\n}"
            }
          },
          "metadata": {},
          "execution_count": 3
        }
      ],
      "source": [
        "grads"
      ]
    },
    {
      "cell_type": "code",
      "source": [
        "#grads['Salary'] = grads['Salary'].apply(lambda x: x.replace('$', '').replace('k', '000')).astype(int)"
      ],
      "metadata": {
        "id": "5y0CdsYPfbxk"
      },
      "id": "5y0CdsYPfbxk",
      "execution_count": 24,
      "outputs": []
    },
    {
      "cell_type": "markdown",
      "id": "9283d451",
      "metadata": {
        "id": "9283d451"
      },
      "source": [
        "Question 1: Identify all the outliers in the above data.  Justify your answers using objective measures."
      ]
    },
    {
      "cell_type": "code",
      "source": [
        "import matplotlib.pyplot as plt\n",
        "\n",
        "grads.plot(kind = 'box', subplots = True, figsize = (10, 7))\n",
        "plt.show()"
      ],
      "metadata": {
        "id": "e6imumQob9a3",
        "outputId": "5e3ab1ce-b658-42bf-9f35-c54a2049a304",
        "colab": {
          "base_uri": "https://localhost:8080/",
          "height": 599
        }
      },
      "id": "e6imumQob9a3",
      "execution_count": 4,
      "outputs": [
        {
          "output_type": "display_data",
          "data": {
            "text/plain": [
              "<Figure size 1000x700 with 3 Axes>"
            ],
            "image/png": "[encoded data removed]"
          },
          "metadata": {}
        }
      ]
    },
    {
      "cell_type": "code",
      "source": [
        "\n",
        "# finding the 1st quartile\n",
        "q1 = grads['Avg Hours Studies per Week'].quantile(0.25)\n",
        "\n",
        "# finding the 3rd quartile\n",
        "q3 = grads['Avg Hours Studies per Week'].quantile(0.75)\n",
        "med = np.median(arr1)\n",
        "\n",
        "# finding the iqr region\n",
        "iqr = q3-q1\n",
        "\n",
        "# finding upper and lower whiskers\n",
        "upper_bound = q3+(1.5*iqr)\n",
        "lower_bound = q1-(1.5*iqr)\n",
        "print(iqr, upper_bound, lower_bound)"
      ],
      "metadata": {
        "id": "VNB3F5tVkLRX",
        "outputId": "250a1676-b836-43b6-f110-386bad0a2aaf",
        "colab": {
          "base_uri": "https://localhost:8080/",
          "height": 216
        }
      },
      "id": "VNB3F5tVkLRX",
      "execution_count": 7,
      "outputs": [
        {
          "output_type": "error",
          "ename": "NameError",
          "evalue": "name 'np' is not defined",
          "traceback": [
            "\u001b[0;31m---------------------------------------------------------------------------\u001b[0m",
            "\u001b[0;31mNameError\u001b[0m                                 Traceback (most recent call last)",
            "\u001b[0;32m<ipython-input-7-ebb297705a99>\u001b[0m in \u001b[0;36m<cell line: 6>\u001b[0;34m()\u001b[0m\n\u001b[1;32m      4\u001b[0m \u001b[0;31m# finding the 3rd quartile\u001b[0m\u001b[0;34m\u001b[0m\u001b[0;34m\u001b[0m\u001b[0m\n\u001b[1;32m      5\u001b[0m \u001b[0mq3\u001b[0m \u001b[0;34m=\u001b[0m \u001b[0mgrads\u001b[0m\u001b[0;34m[\u001b[0m\u001b[0;34m'Avg Hours Studies per Week'\u001b[0m\u001b[0;34m]\u001b[0m\u001b[0;34m.\u001b[0m\u001b[0mquantile\u001b[0m\u001b[0;34m(\u001b[0m\u001b[0;36m0.75\u001b[0m\u001b[0;34m)\u001b[0m\u001b[0;34m\u001b[0m\u001b[0;34m\u001b[0m\u001b[0m\n\u001b[0;32m----> 6\u001b[0;31m \u001b[0mmed\u001b[0m \u001b[0;34m=\u001b[0m \u001b[0mnp\u001b[0m\u001b[0;34m.\u001b[0m\u001b[0mmedian\u001b[0m\u001b[0;34m(\u001b[0m\u001b[0marr1\u001b[0m\u001b[0;34m)\u001b[0m\u001b[0;34m\u001b[0m\u001b[0;34m\u001b[0m\u001b[0m\n\u001b[0m\u001b[1;32m      7\u001b[0m \u001b[0;34m\u001b[0m\u001b[0m\n\u001b[1;32m      8\u001b[0m \u001b[0;31m# finding the iqr region\u001b[0m\u001b[0;34m\u001b[0m\u001b[0;34m\u001b[0m\u001b[0m\n",
            "\u001b[0;31mNameError\u001b[0m: name 'np' is not defined"
          ]
        }
      ]
    },
    {
      "cell_type": "code",
      "execution_count": 5,
      "id": "e0cd6711",
      "metadata": {
        "id": "e0cd6711",
        "outputId": "3666bcea-3c35-4416-8dc7-e59b3eafe737",
        "colab": {
          "base_uri": "https://localhost:8080/"
        }
      },
      "outputs": [
        {
          "output_type": "stream",
          "name": "stdout",
          "text": [
            "The following are the outliers in the boxplot:6    100\n",
            "Name: Avg Hours Studies per Week, dtype: int64\n"
          ]
        }
      ],
      "source": [
        "# Function to detect numerical outliers\n",
        "def detect_outliers(column):\n",
        "    q1 = column.quantile(0.25)\n",
        "    q3 = column.quantile(0.75)\n",
        "    iqr = q3 - q1\n",
        "    lower_bound = q1 - 1.5 * iqr\n",
        "    upper_bound = q3 + 1.5 * iqr\n",
        "    return column[(column < lower_bound) | (column > upper_bound)]\n",
        "\n",
        "# Numerical columns\n",
        "outliers_hours_studies = detect_outliers(grads[\"Avg Hours Studies per Week\"])\n",
        "\n",
        "print('The following are the outliers in the boxplot:{}'.format(outliers_hours_studies))"
      ]
    },
    {
      "cell_type": "code",
      "source": [
        "import seaborn as sns\n",
        "import matplotlib.pyplot as plt\n",
        "\n",
        "# Boxplot for Avg Hours Studies per Week\n",
        "plt.figure(figsize=(8, 4))\n",
        "sns.boxplot(x=grads[\"Avg Hours Studies per Week\"])\n",
        "plt.title(\"Boxplot: Avg Hours Studies per Week\")\n",
        "plt.show()\n",
        "\n",
        "# Boxplot for GPA\n",
        "plt.figure(figsize=(8, 4))\n",
        "sns.boxplot(x=grads[\"GPA\"])\n",
        "plt.title(\"Boxplot: GPA\")\n",
        "plt.show()\n",
        "\n",
        "# Boxplot for Salary\n",
        "plt.figure(figsize=(8, 4))\n",
        "sns.boxplot(x=grads[\"Salary\"])\n",
        "plt.title(\"Boxplot: Salary\")\n",
        "plt.show()\n"
      ],
      "metadata": {
        "id": "qb_oXUvOZHge",
        "outputId": "e63596ee-9cda-49b6-8b3d-76b834bc8e3a",
        "colab": {
          "base_uri": "https://localhost:8080/",
          "height": 1000
        }
      },
      "id": "qb_oXUvOZHge",
      "execution_count": 26,
      "outputs": [
        {
          "output_type": "display_data",
          "data": {
            "text/plain": [
              "<Figure size 800x400 with 1 Axes>"
            ],
            "image/png": "[encoded data removed]"
          },
          "metadata": {}
        },
        {
          "output_type": "display_data",
          "data": {
            "text/plain": [
              "<Figure size 800x400 with 1 Axes>"
            ],
            "image/png": "[encoded data removed]"
          },
          "metadata": {}
        },
        {
          "output_type": "display_data",
          "data": {
            "text/plain": [
              "<Figure size 800x400 with 1 Axes>"
            ],
            "image/png": "[encoded data removed]"
          },
          "metadata": {}
        }
      ]
    },
    {
      "cell_type": "markdown",
      "id": "0bb699a0",
      "metadata": {
        "id": "0bb699a0"
      },
      "source": [
        "Question 2: There are various data that are missing.  Fill-in the missing data or delete the rows/columns that you think you should delete.  Justify your answer"
      ]
    },
    {
      "cell_type": "code",
      "execution_count": null,
      "id": "9b63bbc0",
      "metadata": {
        "id": "9b63bbc0"
      },
      "outputs": [],
      "source": []
    },
    {
      "cell_type": "markdown",
      "id": "bfa5a43f",
      "metadata": {
        "id": "bfa5a43f"
      },
      "source": [
        "Question 3: Reload the data and fill-in the data using mean method as well as the frequent method."
      ]
    },
    {
      "cell_type": "code",
      "execution_count": null,
      "id": "39e4e77e",
      "metadata": {
        "id": "39e4e77e"
      },
      "outputs": [],
      "source": []
    },
    {
      "cell_type": "markdown",
      "id": "26a4657e",
      "metadata": {
        "id": "26a4657e"
      },
      "source": [
        "Exercise II. Run the cell below to create a new dataframe called `df_miss`.  Its first column will contain some missing values."
      ]
    },
    {
      "cell_type": "code",
      "execution_count": null,
      "id": "4565ad8c",
      "metadata": {
        "id": "4565ad8c"
      },
      "outputs": [],
      "source": [
        "import pandas as pd\n",
        "import numpy as np\n",
        "import random\n",
        "\n",
        "nrows = 10\n",
        "ncols = 5\n",
        "\n",
        "# set a seed for random number generation\n",
        "np.random.seed(314)\n",
        "# create an array filled with random data\n",
        "data = np.array(np.random.rand(nrows, ncols))\n",
        "# put the data to a pandas dataframe\n",
        "df_miss = pd.DataFrame(data)\n",
        "# rename the columns\n",
        "df_miss.columns = ['col_'+str(ii) for ii in range(ncols)]\n",
        "\n",
        "# randomly set some values to missing\n",
        "ix0 = np.random.randint(nrows, size=3)\n",
        "ix1 = np.random.randint(nrows, size=3)\n",
        "\n",
        "df_miss['col_0'][ix0] = np.nan\n",
        "df_miss['col_1'][ix1] = np.nan\n",
        "\n",
        "print(df_miss)"
      ]
    },
    {
      "cell_type": "markdown",
      "id": "5c6e0c64",
      "metadata": {
        "id": "5c6e0c64"
      },
      "source": [
        "Impute the missing values (NaN) in `col_0` (but not `col_1`) with the median.  Store the values in the dataframe by using the parameter `inplace`.  Print the dataframe."
      ]
    },
    {
      "cell_type": "code",
      "execution_count": null,
      "id": "253efe31",
      "metadata": {
        "id": "253efe31"
      },
      "outputs": [],
      "source": []
    },
    {
      "cell_type": "markdown",
      "id": "e2e43725",
      "metadata": {
        "id": "e2e43725"
      },
      "source": [
        "Impute the missing values in `col_1` with value 0.  Store the values in the dataframe by using the parameter `inplace`.  Print the dataframe."
      ]
    },
    {
      "cell_type": "code",
      "execution_count": null,
      "id": "d3c600ba",
      "metadata": {
        "id": "d3c600ba"
      },
      "outputs": [],
      "source": []
    }
  ],
  "metadata": {
    "kernelspec": {
      "display_name": "Python 3 (ipykernel)",
      "language": "python",
      "name": "python3"
    },
    "language_info": {
      "codemirror_mode": {
        "name": "ipython",
        "version": 3
      },
      "file_extension": ".py",
      "mimetype": "text/x-python",
      "name": "python",
      "nbconvert_exporter": "python",
      "pygments_lexer": "ipython3",
      "version": "3.10.11"
    },
    "colab": {
      "provenance": [],
      "include_colab_link": true
    }
  },
  "nbformat": 4,
  "nbformat_minor": 5
}